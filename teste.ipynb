{
 "cells": [
  {
   "cell_type": "code",
   "execution_count": 36,
   "source": [
    "from config import config"
   ],
   "outputs": [],
   "metadata": {}
  },
  {
   "cell_type": "code",
   "execution_count": 37,
   "source": [
    "a = config()"
   ],
   "outputs": [],
   "metadata": {}
  },
  {
   "cell_type": "code",
   "execution_count": 38,
   "source": [
    "a"
   ],
   "outputs": [
    {
     "output_type": "execute_result",
     "data": {
      "text/plain": [
       "'1b81d7defeed605f7a09a3156f5f8c0e'"
      ]
     },
     "metadata": {},
     "execution_count": 38
    }
   ],
   "metadata": {}
  },
  {
   "cell_type": "code",
   "execution_count": 23,
   "source": [
    "import time\n",
    "import json\n",
    "#from kafka import KafkaProducer\n",
    "import requests"
   ],
   "outputs": [],
   "metadata": {}
  },
  {
   "cell_type": "code",
   "execution_count": 25,
   "source": [
    "city_name = 'Berlin'\n",
    "api_key = config()\n",
    "\n",
    "endpoint = f'http://api.openweathermap.org/data/2.5/weather?q={city_name}&appid={api_key}'\n",
    "\n",
    "api_response = requests.get(endpoint)\n",
    "json_data = api_response.json()"
   ],
   "outputs": [],
   "metadata": {}
  },
  {
   "cell_type": "code",
   "execution_count": 26,
   "source": [
    "json_data"
   ],
   "outputs": [
    {
     "output_type": "execute_result",
     "data": {
      "text/plain": [
       "{'coord': {'lon': 13.4105, 'lat': 52.5244},\n",
       " 'weather': [{'id': 300,\n",
       "   'main': 'Drizzle',\n",
       "   'description': 'light intensity drizzle',\n",
       "   'icon': '09n'}],\n",
       " 'base': 'stations',\n",
       " 'main': {'temp': 279.41,\n",
       "  'feels_like': 275.55,\n",
       "  'temp_min': 278.29,\n",
       "  'temp_max': 280.42,\n",
       "  'pressure': 1023,\n",
       "  'humidity': 92},\n",
       " 'visibility': 10000,\n",
       " 'wind': {'speed': 6.26, 'deg': 288, 'gust': 8.05},\n",
       " 'clouds': {'all': 75},\n",
       " 'dt': 1639840455,\n",
       " 'sys': {'type': 2,\n",
       "  'id': 2011538,\n",
       "  'country': 'DE',\n",
       "  'sunrise': 1639811597,\n",
       "  'sunset': 1639839164},\n",
       " 'timezone': 3600,\n",
       " 'id': 2950159,\n",
       " 'name': 'Berlin',\n",
       " 'cod': 200}"
      ]
     },
     "metadata": {},
     "execution_count": 26
    }
   ],
   "metadata": {}
  },
  {
   "cell_type": "code",
   "execution_count": 21,
   "source": [
    "!pip3 install kafka-python\n"
   ],
   "outputs": [
    {
     "output_type": "stream",
     "name": "stdout",
     "text": [
      "\u001b[33mDEPRECATION: Configuring installation scheme with distutils config files is deprecated and will no longer work in the near future. If you are using a Homebrew or Linuxbrew Python, please see discussion at https://github.com/Homebrew/homebrew-core/issues/76621\u001b[0m\n",
      "Requirement already satisfied: kafka-python in /opt/homebrew/lib/python3.9/site-packages (2.0.2)\n"
     ]
    }
   ],
   "metadata": {}
  },
  {
   "cell_type": "code",
   "execution_count": 33,
   "source": [
    "json_data['id']"
   ],
   "outputs": [
    {
     "output_type": "execute_result",
     "data": {
      "text/plain": [
       "2950159"
      ]
     },
     "metadata": {},
     "execution_count": 33
    }
   ],
   "metadata": {}
  },
  {
   "cell_type": "code",
   "execution_count": 34,
   "source": [
    "cities = ('London', 'Berlin', 'Paris', 'Barcelona', 'Amsterdam', 'Krakow', 'Vienna')\n",
    "data = []\n",
    "for city in cities:\n",
    "    endpoint = f'http://api.openweathermap.org/data/2.5/weather?q={city}&appid={api_key}'\n",
    "\n",
    "    api_response = requests.get(endpoint)\n",
    "    json_data = api_response.json()\n",
    "    data.append(json_data)"
   ],
   "outputs": [],
   "metadata": {}
  },
  {
   "cell_type": "code",
   "execution_count": 35,
   "source": [
    "data"
   ],
   "outputs": [
    {
     "output_type": "execute_result",
     "data": {
      "text/plain": [
       "[{'coord': {'lon': -0.1257, 'lat': 51.5085},\n",
       "  'weather': [{'id': 804,\n",
       "    'main': 'Clouds',\n",
       "    'description': 'overcast clouds',\n",
       "    'icon': '04d'}],\n",
       "  'base': 'stations',\n",
       "  'main': {'temp': 281.22,\n",
       "   'feels_like': 278.72,\n",
       "   'temp_min': 280.2,\n",
       "   'temp_max': 282.35,\n",
       "   'pressure': 1039,\n",
       "   'humidity': 93},\n",
       "  'visibility': 7000,\n",
       "  'wind': {'speed': 4.12, 'deg': 70},\n",
       "  'clouds': {'all': 90},\n",
       "  'dt': 1639842454,\n",
       "  'sys': {'type': 2,\n",
       "   'id': 2019646,\n",
       "   'country': 'GB',\n",
       "   'sunrise': 1639814528,\n",
       "   'sunset': 1639842732},\n",
       "  'timezone': 0,\n",
       "  'id': 2643743,\n",
       "  'name': 'London',\n",
       "  'cod': 200},\n",
       " {'coord': {'lon': 13.4105, 'lat': 52.5244},\n",
       "  'weather': [{'id': 300,\n",
       "    'main': 'Drizzle',\n",
       "    'description': 'light intensity drizzle',\n",
       "    'icon': '09n'}],\n",
       "  'base': 'stations',\n",
       "  'main': {'temp': 279.55,\n",
       "   'feels_like': 275.56,\n",
       "   'temp_min': 278.29,\n",
       "   'temp_max': 280.46,\n",
       "   'pressure': 1022,\n",
       "   'humidity': 91},\n",
       "  'visibility': 10000,\n",
       "  'wind': {'speed': 6.71, 'deg': 283, 'gust': 7.15},\n",
       "  'clouds': {'all': 75},\n",
       "  'dt': 1639842178,\n",
       "  'sys': {'type': 2,\n",
       "   'id': 2011538,\n",
       "   'country': 'DE',\n",
       "   'sunrise': 1639811597,\n",
       "   'sunset': 1639839164},\n",
       "  'timezone': 3600,\n",
       "  'id': 2950159,\n",
       "  'name': 'Berlin',\n",
       "  'cod': 200},\n",
       " {'coord': {'lon': 2.3488, 'lat': 48.8534},\n",
       "  'weather': [{'id': 800,\n",
       "    'main': 'Clear',\n",
       "    'description': 'clear sky',\n",
       "    'icon': '01d'}],\n",
       "  'base': 'stations',\n",
       "  'main': {'temp': 281.69,\n",
       "   'feels_like': 280.83,\n",
       "   'temp_min': 280.49,\n",
       "   'temp_max': 282.43,\n",
       "   'pressure': 1034,\n",
       "   'humidity': 77},\n",
       "  'visibility': 10000,\n",
       "  'wind': {'speed': 1.79, 'deg': 68, 'gust': 3.13},\n",
       "  'clouds': {'all': 0},\n",
       "  'dt': 1639842469,\n",
       "  'sys': {'type': 2,\n",
       "   'id': 2041230,\n",
       "   'country': 'FR',\n",
       "   'sunrise': 1639813181,\n",
       "   'sunset': 1639842891},\n",
       "  'timezone': 3600,\n",
       "  'id': 2988507,\n",
       "  'name': 'Paris',\n",
       "  'cod': 200},\n",
       " {'coord': {'lon': 2.159, 'lat': 41.3888},\n",
       "  'weather': [{'id': 800,\n",
       "    'main': 'Clear',\n",
       "    'description': 'clear sky',\n",
       "    'icon': '01d'}],\n",
       "  'base': 'stations',\n",
       "  'main': {'temp': 286.16,\n",
       "   'feels_like': 285.47,\n",
       "   'temp_min': 284.51,\n",
       "   'temp_max': 287.79,\n",
       "   'pressure': 1029,\n",
       "   'humidity': 75},\n",
       "  'visibility': 10000,\n",
       "  'wind': {'speed': 1.54, 'deg': 130},\n",
       "  'clouds': {'all': 0},\n",
       "  'dt': 1639842031,\n",
       "  'sys': {'type': 2,\n",
       "   'id': 18549,\n",
       "   'country': 'ES',\n",
       "   'sunrise': 1639811549,\n",
       "   'sunset': 1639844615},\n",
       "  'timezone': 3600,\n",
       "  'id': 3128760,\n",
       "  'name': 'Barcelona',\n",
       "  'cod': 200},\n",
       " {'coord': {'lon': 4.8897, 'lat': 52.374},\n",
       "  'weather': [{'id': 804,\n",
       "    'main': 'Clouds',\n",
       "    'description': 'overcast clouds',\n",
       "    'icon': '04n'}],\n",
       "  'base': 'stations',\n",
       "  'main': {'temp': 280.3,\n",
       "   'feels_like': 279.23,\n",
       "   'temp_min': 279.05,\n",
       "   'temp_max': 280.87,\n",
       "   'pressure': 1036,\n",
       "   'humidity': 95},\n",
       "  'visibility': 9000,\n",
       "  'wind': {'speed': 1.79, 'deg': 285, 'gust': 3.13},\n",
       "  'clouds': {'all': 90},\n",
       "  'dt': 1639842245,\n",
       "  'sys': {'type': 2,\n",
       "   'id': 2011826,\n",
       "   'country': 'NL',\n",
       "   'sunrise': 1639813594,\n",
       "   'sunset': 1639841258},\n",
       "  'timezone': 3600,\n",
       "  'id': 2759794,\n",
       "  'name': 'Amsterdam',\n",
       "  'cod': 200},\n",
       " {'coord': {'lon': 19.9167, 'lat': 50.0833},\n",
       "  'weather': [{'id': 804,\n",
       "    'main': 'Clouds',\n",
       "    'description': 'overcast clouds',\n",
       "    'icon': '04n'}],\n",
       "  'base': 'stations',\n",
       "  'main': {'temp': 275.56,\n",
       "   'feels_like': 274.39,\n",
       "   'temp_min': 274.68,\n",
       "   'temp_max': 276.73,\n",
       "   'pressure': 1026,\n",
       "   'humidity': 90},\n",
       "  'visibility': 8000,\n",
       "  'wind': {'speed': 1.34, 'deg': 169, 'gust': 4.92},\n",
       "  'clouds': {'all': 90},\n",
       "  'dt': 1639842459,\n",
       "  'sys': {'type': 2,\n",
       "   'id': 2009211,\n",
       "   'country': 'PL',\n",
       "   'sunrise': 1639809299,\n",
       "   'sunset': 1639838339},\n",
       "  'timezone': 3600,\n",
       "  'id': 3094802,\n",
       "  'name': 'Krakow',\n",
       "  'cod': 200},\n",
       " {'coord': {'lon': 16.3721, 'lat': 48.2085},\n",
       "  'weather': [{'id': 800,\n",
       "    'main': 'Clear',\n",
       "    'description': 'clear sky',\n",
       "    'icon': '01n'}],\n",
       "  'base': 'stations',\n",
       "  'main': {'temp': 277.48,\n",
       "   'feels_like': 277.48,\n",
       "   'temp_min': 276.23,\n",
       "   'temp_max': 279.56,\n",
       "   'pressure': 1032,\n",
       "   'humidity': 73},\n",
       "  'visibility': 10000,\n",
       "  'wind': {'speed': 0.45, 'deg': 359, 'gust': 2.68},\n",
       "  'clouds': {'all': 0},\n",
       "  'dt': 1639842130,\n",
       "  'sys': {'type': 2,\n",
       "   'id': 2037452,\n",
       "   'country': 'AT',\n",
       "   'sunrise': 1639809647,\n",
       "   'sunset': 1639839693},\n",
       "  'timezone': 3600,\n",
       "  'id': 2761369,\n",
       "  'name': 'Vienna',\n",
       "  'cod': 200}]"
      ]
     },
     "metadata": {},
     "execution_count": 35
    }
   ],
   "metadata": {}
  },
  {
   "cell_type": "code",
   "execution_count": 43,
   "source": [
    "from configparser import ConfigParser\n",
    "\n",
    "filename = 'weather_api_key.ini'\n",
    "section = 'openweather'\n",
    "\n",
    "parser = ConfigParser()\n",
    "# read API key file\n",
    "with open(filename, 'r') as F:\n",
    "    parser.read(filename)\n",
    "    # check if section exists\n",
    "    if parser.has_section(section):\n",
    "        params = parser.items(section)\n",
    "        #return params[0][1]\n",
    "    else:\n",
    "        raise Exception(f'Section {section} not found in {filename}')"
   ],
   "outputs": [],
   "metadata": {}
  },
  {
   "cell_type": "code",
   "execution_count": 44,
   "source": [
    "params"
   ],
   "outputs": [
    {
     "output_type": "execute_result",
     "data": {
      "text/plain": [
       "[('key', '1b81d7defeed605f7a09a3156f5f8c0e')]"
      ]
     },
     "metadata": {},
     "execution_count": 44
    }
   ],
   "metadata": {}
  },
  {
   "cell_type": "code",
   "execution_count": null,
   "source": [],
   "outputs": [],
   "metadata": {}
  }
 ],
 "metadata": {
  "orig_nbformat": 4,
  "language_info": {
   "name": "python",
   "version": "3.9.7",
   "mimetype": "text/x-python",
   "codemirror_mode": {
    "name": "ipython",
    "version": 3
   },
   "pygments_lexer": "ipython3",
   "nbconvert_exporter": "python",
   "file_extension": ".py"
  },
  "kernelspec": {
   "name": "python3",
   "display_name": "Python 3.9.7 64-bit"
  },
  "interpreter": {
   "hash": "50292dbb1f747f7151d445135d392af3138fb3c65386d17d9510cb605222b10b"
  }
 },
 "nbformat": 4,
 "nbformat_minor": 2
}