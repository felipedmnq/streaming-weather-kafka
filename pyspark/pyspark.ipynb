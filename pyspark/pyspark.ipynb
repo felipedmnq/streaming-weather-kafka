{
 "cells": [
  {
   "cell_type": "code",
   "execution_count": 7,
   "source": [
    "from datetime import datetime\n",
    "from pyspark.sql import SparkSession\n",
    "from pyspark.sql.types import StructType, StructField, StringType, IntegerType, DoubleType, DateType, TimestampType, ArrayType"
   ],
   "outputs": [],
   "metadata": {}
  },
  {
   "cell_type": "code",
   "execution_count": 16,
   "source": [
    "pyspark = SparkSession.builder.appName('OpenWeather').master('local[*]').getOrCreate()\n",
    "\n",
    "schema = StructType([\n",
    "    StructField('_id', StringType(), True),\n",
    "    StructField('created_at', TimestampType(), True),\n",
    "    StructField('city_id', IntegerType(), True),\n",
    "    StructField('lat', DoubleType(), True),\n",
    "    StructField('lon', DoubleType(), True),\n",
    "    StructField('country', StringType(), True),\n",
    "    StructField('temp', DoubleType(), True),\n",
    "    StructField('max_temp', DoubleType(), True),\n",
    "    StructField('min_temp', DoubleType(), True),\n",
    "    StructField('feels_like', DoubleType(), True),\n",
    "    StructField('humidity', IntegerType(), True)]\n",
    ")\n",
    "\n",
    "today = f'{datetime.today().date()}'.replace('-', '')\n",
    "\n",
    "df_pyspark_schema = pyspark.read.schema(schema).json(f'../data/openweather_{today}.json')\n",
    "print(df_pyspark_schema.printSchema())\n",
    "print(df_pyspark_schema.show())"
   ],
   "outputs": [
    {
     "output_type": "stream",
     "name": "stdout",
     "text": [
      "root\n",
      " |-- _id: string (nullable = true)\n",
      " |-- created_at: timestamp (nullable = true)\n",
      " |-- city_id: integer (nullable = true)\n",
      " |-- lat: double (nullable = true)\n",
      " |-- lon: double (nullable = true)\n",
      " |-- country: string (nullable = true)\n",
      " |-- temp: double (nullable = true)\n",
      " |-- max_temp: double (nullable = true)\n",
      " |-- min_temp: double (nullable = true)\n",
      " |-- feels_like: double (nullable = true)\n",
      " |-- humidity: integer (nullable = true)\n",
      "\n",
      "None\n",
      "+--------------------+-------------------+-------+-------+-------+-------+------+--------+--------+----------+--------+\n",
      "|                 _id|         created_at|city_id|    lat|    lon|country|  temp|max_temp|min_temp|feels_like|humidity|\n",
      "+--------------------+-------------------+-------+-------+-------+-------+------+--------+--------+----------+--------+\n",
      "|{\"$oid\":\"61bf0e36...|2021-12-19 11:49:26|2950159|52.5244|13.4105|     DE|279.39|  280.79|  278.76|    275.21|      91|\n",
      "|{\"$oid\":\"61bf0e3b...|2021-12-19 11:49:31|2988507|48.8534| 2.3488|     FR|277.89|  278.62|  277.19|    276.44|      97|\n",
      "|{\"$oid\":\"61bf0e40...|2021-12-19 11:49:36|3128760|41.3888|  2.159|     ES|284.19|  286.78|  281.78|    283.36|      77|\n",
      "|{\"$oid\":\"61bf0e45...|2021-12-19 11:49:41|2759794| 52.374| 4.8897|     NL| 280.2|   281.4|  279.19|    278.34|      94|\n",
      "|{\"$oid\":\"61bf0e4a...|2021-12-19 11:49:46|3094802|50.0833|19.9167|     PL| 278.4|  279.01|  276.56|     278.4|      89|\n",
      "|{\"$oid\":\"61bf0e50...|2021-12-19 11:49:52|2761369|48.2085|16.3721|     AT|277.58|  279.15|  275.81|    274.04|      72|\n",
      "|{\"$oid\":\"61bf0e55...|2021-12-19 11:49:57|2643743|51.5085|-0.1257|     GB|277.64|  279.03|  275.34|    275.86|      98|\n",
      "|{\"$oid\":\"61bf0e5a...|2021-12-19 11:50:02|2950159|52.5244|13.4105|     DE|279.45|  280.79|  278.76|    275.28|      91|\n",
      "|{\"$oid\":\"61bf0e5f...|2021-12-19 11:50:07|2988507|48.8534| 2.3488|     FR|277.89|  278.62|  277.19|    276.44|      97|\n",
      "|{\"$oid\":\"61bf0f0b...|2021-12-19 11:52:59|2950159|52.5244|13.4105|     DE|279.39|  280.79|  278.76|    275.21|      91|\n",
      "|{\"$oid\":\"61bf0f10...|2021-12-19 11:53:04|2988507|48.8534| 2.3488|     FR|277.89|  278.62|  277.19|    276.44|      97|\n",
      "|{\"$oid\":\"61bf0f15...|2021-12-19 11:53:09|3128760|41.3888|  2.159|     ES|284.19|  286.78|  281.78|    283.36|      77|\n",
      "|{\"$oid\":\"61c0298d...|2021-12-20 07:58:21|2950159|52.5244|13.4105|     DE|273.11|  274.46|  270.94|    269.12|      88|\n",
      "|{\"$oid\":\"61c02ab9...|2021-12-20 08:03:21|2988507|48.8534| 2.3488|     FR|278.33|  278.92|  277.59|    278.33|      89|\n",
      "|{\"$oid\":\"61c02be5...|2021-12-20 08:08:21|3128760|41.3888|  2.159|     ES|279.56|  282.34|  274.78|    276.73|      75|\n",
      "|{\"$oid\":\"61c02d12...|2021-12-20 08:13:21|2759794| 52.374| 4.8897|     NL|278.77|  280.31|  277.18|    277.46|      78|\n",
      "|{\"$oid\":\"61c02e3e...|2021-12-20 08:18:22|3094802|50.0833|19.9167|     PL| 273.7|  274.48|   271.3|     273.7|      69|\n",
      "|{\"$oid\":\"61c02f6a...|2021-12-20 08:23:22|2761369|48.2085|16.3721|     AT|275.01|  276.16|  273.33|    273.12|      82|\n",
      "|{\"$oid\":\"61c03096...|2021-12-20 08:28:22|2643743|51.5085|-0.1257|     GB|278.94|  280.01|  277.79|    278.21|      94|\n",
      "|{\"$oid\":\"61c031c2...|2021-12-20 08:33:22|2950159|52.5244|13.4105|     DE|273.17|   275.0|  270.83|    268.58|      87|\n",
      "+--------------------+-------------------+-------+-------+-------+-------+------+--------+--------+----------+--------+\n",
      "only showing top 20 rows\n",
      "\n",
      "None\n"
     ]
    }
   ],
   "metadata": {}
  },
  {
   "cell_type": "code",
   "execution_count": null,
   "source": [],
   "outputs": [],
   "metadata": {}
  }
 ],
 "metadata": {
  "orig_nbformat": 4,
  "language_info": {
   "name": "python",
   "version": "3.9.7",
   "mimetype": "text/x-python",
   "codemirror_mode": {
    "name": "ipython",
    "version": 3
   },
   "pygments_lexer": "ipython3",
   "nbconvert_exporter": "python",
   "file_extension": ".py"
  },
  "kernelspec": {
   "name": "python3",
   "display_name": "Python 3.9.7 64-bit"
  },
  "interpreter": {
   "hash": "50292dbb1f747f7151d445135d392af3138fb3c65386d17d9510cb605222b10b"
  }
 },
 "nbformat": 4,
 "nbformat_minor": 2
}