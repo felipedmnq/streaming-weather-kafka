{
 "cells": [
  {
   "cell_type": "code",
   "execution_count": 11,
   "id": "26dc747c-b947-4c70-9725-1f421c3c9485",
   "metadata": {},
   "outputs": [],
   "source": [
    "import os, sys, re\n",
    "import numpy as np\n",
    "import pandas as pd\n",
    "import seaborn as sns\n",
    "import matplotlib.pyplot as plt\n",
    "from pyspark.sql import SparkSession"
   ]
  },
  {
   "cell_type": "code",
   "execution_count": 6,
   "id": "e8639a2c-fd6f-4a97-bd62-66c110fd8b74",
   "metadata": {},
   "outputs": [
    {
     "name": "stderr",
     "output_type": "stream",
     "text": [
      "Using Spark's default log4j profile: org/apache/spark/log4j-defaults.properties\n",
      "Setting default log level to \"WARN\".\n",
      "To adjust logging level use sc.setLogLevel(newLevel). For SparkR, use setLogLevel(newLevel).\n",
      "21/12/30 08:24:24 WARN NativeCodeLoader: Unable to load native-hadoop library for your platform... using builtin-java classes where applicable\n"
     ]
    }
   ],
   "source": [
    "pyspark = SparkSession.builder.appName(\"temp_analysis\").master('local[*]').getOrCreate()"
   ]
  },
  {
   "cell_type": "code",
   "execution_count": 7,
   "id": "f62255b5-cbc5-4640-8c2c-2c7f21579609",
   "metadata": {},
   "outputs": [
    {
     "name": "stderr",
     "output_type": "stream",
     "text": [
      "                                                                                \r"
     ]
    }
   ],
   "source": [
    "df = pyspark.read.parquet('../../data/data_lake/cleansed/openweather_20211230.parquet')"
   ]
  },
  {
   "cell_type": "code",
   "execution_count": 9,
   "id": "e5a4d313-5576-4de8-a63d-11b522169c1f",
   "metadata": {},
   "outputs": [
    {
     "name": "stdout",
     "output_type": "stream",
     "text": [
      "+-----+--------------------+-------------------+-----+---+----+-------+---------+-----------+-------+-------+--------+----------+------+----------+------------+----------+------+----------+------------+\n",
      "|index|                  id|         created_at|month|day|hour|city_id|     city|    country|    lat|    lon|humidity|min_temp_F|temp_F|max_temp_F|feels_like_F|min_temp_C|temp_C|max_temp_C|feels_like_C|\n",
      "+-----+--------------------+-------------------+-----+---+----+-------+---------+-----------+-------+-------+--------+----------+------+----------+------------+----------+------+----------+------------+\n",
      "|    0|\"61bf0e36c0963c89...|2021-12-19 11:49:26|   12| 19|  11|2950159|   Berlin|    Germany|52.5244|13.4105|      91|      42.1| 43.23|     45.75|       35.71|      5.61|  6.24|      7.64|        2.06|\n",
      "|    1|\"61bf0e3bc0963c89...|2021-12-19 11:49:31|   12| 19|  11|2988507|    Paris|     France|48.8534| 2.3488|      97|     39.27| 40.53|     41.85|       37.92|      4.04|  4.74|      5.47|        3.29|\n",
      "|    2|\"61bf0e40c0963c89...|2021-12-19 11:49:36|   12| 19|  11|3128760|Barcelona|      Spain|41.3888|  2.159|      77|     47.53| 51.87|     56.53|       50.38|      8.63| 11.04|     13.63|       10.21|\n",
      "|    3|\"61bf0e45c0963c89...|2021-12-19 11:49:41|   12| 19|  11|2759794|Amsterdam|Netherlands| 52.374| 4.8897|      94|     42.87| 44.69|     46.85|       41.34|      6.04|  7.05|      8.25|        5.19|\n",
      "|    4|\"61bf0e4ac0963c89...|2021-12-19 11:49:46|   12| 19|  11|3094802|   Krakow|     Poland|50.0833|19.9167|      89|     38.14| 41.45|     42.55|       41.45|      3.41|  5.25|      5.86|        5.25|\n",
      "|    5|\"61bf0e50c0963c89...|2021-12-19 11:49:52|   12| 19|  11|2761369|   Vienna|    Austria|48.2085|16.3721|      72|     36.79| 39.97|      42.8|        33.6|      2.66|  4.43|       6.0|        0.89|\n",
      "|    6|\"61bf0e55c0963c89...|2021-12-19 11:49:57|   12| 19|  11|2643743|   London|    England|51.5085|-0.1257|      98|     35.94| 40.08|     42.58|       36.88|      2.19|  4.49|      5.88|        2.71|\n",
      "|    7|\"61bf0e5ac0963c89...|2021-12-19 11:50:02|   12| 19|  11|2950159|   Berlin|    Germany|52.5244|13.4105|      91|      42.1| 43.34|     45.75|       35.83|      5.61|   6.3|      7.64|        2.13|\n",
      "|    8|\"61bf0e5fc0963c89...|2021-12-19 11:50:07|   12| 19|  11|2988507|    Paris|     France|48.8534| 2.3488|      97|     39.27| 40.53|     41.85|       37.92|      4.04|  4.74|      5.47|        3.29|\n",
      "|    9|\"61bf0f0bb4aeef44...|2021-12-19 11:52:59|   12| 19|  11|2950159|   Berlin|    Germany|52.5244|13.4105|      91|      42.1| 43.23|     45.75|       35.71|      5.61|  6.24|      7.64|        2.06|\n",
      "|   10|\"61bf0f10b4aeef44...|2021-12-19 11:53:04|   12| 19|  11|2988507|    Paris|     France|48.8534| 2.3488|      97|     39.27| 40.53|     41.85|       37.92|      4.04|  4.74|      5.47|        3.29|\n",
      "|   11|\"61bf0f15b4aeef44...|2021-12-19 11:53:09|   12| 19|  11|3128760|Barcelona|      Spain|41.3888|  2.159|      77|     47.53| 51.87|     56.53|       50.38|      8.63| 11.04|     13.63|       10.21|\n",
      "|   12|\"61c0298dbfa94000...|2021-12-20 07:58:21|   12| 20|   7|2950159|   Berlin|    Germany|52.5244|13.4105|      88|     28.02| 31.93|     34.36|       24.75|     -2.21| -0.04|      1.31|       -4.03|\n",
      "|   13|\"61c02ab9bfa94000...|2021-12-20 08:03:21|   12| 20|   8|2988507|    Paris|     France|48.8534| 2.3488|      89|     39.99| 41.32|     42.39|       41.32|      4.44|  5.18|      5.77|        5.18|\n",
      "|   14|\"61c02be5bfa94000...|2021-12-20 08:08:21|   12| 20|   8|3128760|Barcelona|      Spain|41.3888|  2.159|      75|     34.93| 43.54|     48.54|       38.44|      1.63|  6.41|      9.19|        3.58|\n",
      "|   15|\"61c02d12bfa94000...|2021-12-20 08:13:21|   12| 20|   8|2759794|Amsterdam|Netherlands| 52.374| 4.8897|      78|     39.25| 42.12|     44.89|       39.76|      4.03|  5.62|      7.16|        4.31|\n",
      "|   16|\"61c02e3ebfa94000...|2021-12-20 08:18:22|   12| 20|   8|3094802|   Krakow|     Poland|50.0833|19.9167|      69|     28.67| 32.99|     34.39|       32.99|     -1.85|  0.55|      1.33|        0.55|\n",
      "|   17|\"61c02f6abfa94000...|2021-12-20 08:23:22|   12| 20|   8|2761369|   Vienna|    Austria|48.2085|16.3721|      82|     32.32| 35.35|     37.42|       31.95|      0.18|  1.86|      3.01|       -0.03|\n",
      "|   18|\"61c03096bfa94000...|2021-12-20 08:28:22|   12| 20|   8|2643743|   London|    England|51.5085|-0.1257|      94|     40.35| 42.42|     44.35|       41.11|      4.64|  5.79|      6.86|        5.06|\n",
      "|   19|\"61c031c2bfa94000...|2021-12-20 08:33:22|   12| 20|   8|2950159|   Berlin|    Germany|52.5244|13.4105|      87|     27.82| 32.04|     35.33|       23.77|     -2.32|  0.02|      1.85|       -4.57|\n",
      "+-----+--------------------+-------------------+-----+---+----+-------+---------+-----------+-------+-------+--------+----------+------+----------+------------+----------+------+----------+------------+\n",
      "only showing top 20 rows\n",
      "\n"
     ]
    }
   ],
   "source": [
    "df.show()"
   ]
  },
  {
   "cell_type": "code",
   "execution_count": null,
   "id": "5b44df41-1e7e-47f3-82a5-46dac10eaa7d",
   "metadata": {},
   "outputs": [],
   "source": []
  }
 ],
 "metadata": {
  "kernelspec": {
   "display_name": "Python 3 (ipykernel)",
   "language": "python",
   "name": "python3"
  },
  "language_info": {
   "codemirror_mode": {
    "name": "ipython",
    "version": 3
   },
   "file_extension": ".py",
   "mimetype": "text/x-python",
   "name": "python",
   "nbconvert_exporter": "python",
   "pygments_lexer": "ipython3",
   "version": "3.9.9"
  }
 },
 "nbformat": 4,
 "nbformat_minor": 5
}
