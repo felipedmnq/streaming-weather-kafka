{
 "cells": [
  {
   "cell_type": "markdown",
   "id": "c185355d-f702-4dea-9fb8-cee5355d802e",
   "metadata": {},
   "source": [
    "# DATA ANALYSIS WITH PYSPARK\n",
    "\n",
    "**This notebook has the purpose of practice and understand the usage of pyspark to perform data analysis**"
   ]
  },
  {
   "cell_type": "markdown",
   "id": "3027f536-c479-4fca-a7a1-53307e6d51a6",
   "metadata": {},
   "source": [
    "## IMPORTS"
   ]
  },
  {
   "cell_type": "code",
   "execution_count": 28,
   "id": "26dc747c-b947-4c70-9725-1f421c3c9485",
   "metadata": {},
   "outputs": [],
   "source": [
    "import os, sys, re\n",
    "import numpy as np\n",
    "import pandas as pd\n",
    "import seaborn as sns\n",
    "import matplotlib.pyplot as plt\n",
    "from pyspark.sql import SQLContext\n",
    "from pyspark.sql import SparkSession"
   ]
  },
  {
   "cell_type": "markdown",
   "id": "884a23d7-d21a-418c-841a-4ed18063b2b5",
   "metadata": {},
   "source": [
    "## HELPER FUNCTIONS"
   ]
  },
  {
   "cell_type": "code",
   "execution_count": 142,
   "id": "0cc98646-7fdd-44f9-8764-729abedbdb52",
   "metadata": {},
   "outputs": [
    {
     "name": "stdout",
     "output_type": "stream",
     "text": [
      "Populating the interactive namespace from numpy and matplotlib\n"
     ]
    }
   ],
   "source": [
    "def jupyter_settings():\n",
    "    %matplotlib inline\n",
    "    %pylab inline\n",
    " \n",
    "    plt.style.use( 'bmh' )\n",
    "    plt.rcParams['figure.figsize'] = [10, 6]\n",
    "    plt.rcParams['font.size'] = 50\n",
    "  \n",
    "    #display( HTML( '<style>.container { width:100% !important; }</style>') )\n",
    "    pd.options.display.max_columns = None\n",
    "    pd.options.display.max_rows = None\n",
    "    pd.set_option( 'display.expand_frame_repr', False )\n",
    "  \n",
    "    sns.set()\n",
    "\n",
    "def annot_plot(plot):\n",
    "    for p in plot.patches:\n",
    "        plot.annotate(format(round(float(p.get_height()),2)), \n",
    "                       (p.get_x() + p.get_width() / 2., p.get_height()), \n",
    "                       ha = 'center', va = 'center', \n",
    "                       xytext = (0, 9), \n",
    "                       textcoords = 'offset points',\n",
    "                       fontsize = 14)\n",
    "    return None\n",
    "\n",
    "def city_temp_lineplot(df, city:str):\n",
    "    \n",
    "    if isinstance(city, str):\n",
    "        df_city = df1[df1['city'] == f'{city.title()}']\n",
    "\n",
    "        ax = sns.lineplot(df_city['day'], df_city['avg(temp_C)'], markers=True, dashes=False)\n",
    "        ax.set_title(f\"Temperature Variation {city.title()}\", fontsize=14)\n",
    "        ax.set_ylabel(\"Temp (C)\")\n",
    "        ax.axhline(0, color=\"k\", linestyle=\"--\")\n",
    "    else: raise ValueError(\"City name must to a string.\")\n",
    "    \n",
    "    return ax\n",
    "\n",
    "jupyter_settings()"
   ]
  },
  {
   "cell_type": "markdown",
   "id": "88c88f0a-d9e6-4763-924d-850022a1af42",
   "metadata": {},
   "source": [
    "## SET SPARK SESSION\n",
    "\n",
    "**SparkSession**\n",
    "\n",
    "    - A SparkSession is an entry point to underlying PySpark functionality in order to programmatically create PySpark RDD, DataFrame."
   ]
  },
  {
   "cell_type": "code",
   "execution_count": 6,
   "id": "e8639a2c-fd6f-4a97-bd62-66c110fd8b74",
   "metadata": {},
   "outputs": [
    {
     "name": "stderr",
     "output_type": "stream",
     "text": [
      "Using Spark's default log4j profile: org/apache/spark/log4j-defaults.properties\n",
      "Setting default log level to \"WARN\".\n",
      "To adjust logging level use sc.setLogLevel(newLevel). For SparkR, use setLogLevel(newLevel).\n",
      "21/12/30 08:24:24 WARN NativeCodeLoader: Unable to load native-hadoop library for your platform... using builtin-java classes where applicable\n"
     ]
    }
   ],
   "source": [
    "pyspark = SparkSession.builder.appName(\"temp_analysis\").master('local[*]').getOrCreate()"
   ]
  },
  {
   "cell_type": "markdown",
   "id": "5ca091cb-ee77-452e-94dd-c5e9f27cd480",
   "metadata": {},
   "source": [
    "## LOAD DATAFRAME FROM PARQUET FILE\n",
    "\n",
    "**RDD**\n",
    "\n",
    "    - RDD stands for Resilient Distributed Dataset, these are the elements that run and operate on multiple nodes to do parallel processing on a cluster. RDDs are immutable elements."
   ]
  },
  {
   "cell_type": "code",
   "execution_count": 7,
   "id": "f62255b5-cbc5-4640-8c2c-2c7f21579609",
   "metadata": {},
   "outputs": [
    {
     "name": "stderr",
     "output_type": "stream",
     "text": [
      "                                                                                \r"
     ]
    }
   ],
   "source": [
    "df = pyspark.read.parquet('../../data/data_lake/cleansed/openweather_20211230.parquet')"
   ]
  },
  {
   "cell_type": "markdown",
   "id": "96ef7319-a2a8-42e4-99cc-fe72c77bbbd2",
   "metadata": {},
   "source": [
    "## FIRST LOOK INTO THE DATA"
   ]
  },
  {
   "cell_type": "code",
   "execution_count": 9,
   "id": "e5a4d313-5576-4de8-a63d-11b522169c1f",
   "metadata": {},
   "outputs": [
    {
     "name": "stdout",
     "output_type": "stream",
     "text": [
      "+-----+--------------------+-------------------+-----+---+----+-------+---------+-----------+-------+-------+--------+----------+------+----------+------------+----------+------+----------+------------+\n",
      "|index|                  id|         created_at|month|day|hour|city_id|     city|    country|    lat|    lon|humidity|min_temp_F|temp_F|max_temp_F|feels_like_F|min_temp_C|temp_C|max_temp_C|feels_like_C|\n",
      "+-----+--------------------+-------------------+-----+---+----+-------+---------+-----------+-------+-------+--------+----------+------+----------+------------+----------+------+----------+------------+\n",
      "|    0|\"61bf0e36c0963c89...|2021-12-19 11:49:26|   12| 19|  11|2950159|   Berlin|    Germany|52.5244|13.4105|      91|      42.1| 43.23|     45.75|       35.71|      5.61|  6.24|      7.64|        2.06|\n",
      "|    1|\"61bf0e3bc0963c89...|2021-12-19 11:49:31|   12| 19|  11|2988507|    Paris|     France|48.8534| 2.3488|      97|     39.27| 40.53|     41.85|       37.92|      4.04|  4.74|      5.47|        3.29|\n",
      "|    2|\"61bf0e40c0963c89...|2021-12-19 11:49:36|   12| 19|  11|3128760|Barcelona|      Spain|41.3888|  2.159|      77|     47.53| 51.87|     56.53|       50.38|      8.63| 11.04|     13.63|       10.21|\n",
      "|    3|\"61bf0e45c0963c89...|2021-12-19 11:49:41|   12| 19|  11|2759794|Amsterdam|Netherlands| 52.374| 4.8897|      94|     42.87| 44.69|     46.85|       41.34|      6.04|  7.05|      8.25|        5.19|\n",
      "|    4|\"61bf0e4ac0963c89...|2021-12-19 11:49:46|   12| 19|  11|3094802|   Krakow|     Poland|50.0833|19.9167|      89|     38.14| 41.45|     42.55|       41.45|      3.41|  5.25|      5.86|        5.25|\n",
      "|    5|\"61bf0e50c0963c89...|2021-12-19 11:49:52|   12| 19|  11|2761369|   Vienna|    Austria|48.2085|16.3721|      72|     36.79| 39.97|      42.8|        33.6|      2.66|  4.43|       6.0|        0.89|\n",
      "|    6|\"61bf0e55c0963c89...|2021-12-19 11:49:57|   12| 19|  11|2643743|   London|    England|51.5085|-0.1257|      98|     35.94| 40.08|     42.58|       36.88|      2.19|  4.49|      5.88|        2.71|\n",
      "|    7|\"61bf0e5ac0963c89...|2021-12-19 11:50:02|   12| 19|  11|2950159|   Berlin|    Germany|52.5244|13.4105|      91|      42.1| 43.34|     45.75|       35.83|      5.61|   6.3|      7.64|        2.13|\n",
      "|    8|\"61bf0e5fc0963c89...|2021-12-19 11:50:07|   12| 19|  11|2988507|    Paris|     France|48.8534| 2.3488|      97|     39.27| 40.53|     41.85|       37.92|      4.04|  4.74|      5.47|        3.29|\n",
      "|    9|\"61bf0f0bb4aeef44...|2021-12-19 11:52:59|   12| 19|  11|2950159|   Berlin|    Germany|52.5244|13.4105|      91|      42.1| 43.23|     45.75|       35.71|      5.61|  6.24|      7.64|        2.06|\n",
      "|   10|\"61bf0f10b4aeef44...|2021-12-19 11:53:04|   12| 19|  11|2988507|    Paris|     France|48.8534| 2.3488|      97|     39.27| 40.53|     41.85|       37.92|      4.04|  4.74|      5.47|        3.29|\n",
      "|   11|\"61bf0f15b4aeef44...|2021-12-19 11:53:09|   12| 19|  11|3128760|Barcelona|      Spain|41.3888|  2.159|      77|     47.53| 51.87|     56.53|       50.38|      8.63| 11.04|     13.63|       10.21|\n",
      "|   12|\"61c0298dbfa94000...|2021-12-20 07:58:21|   12| 20|   7|2950159|   Berlin|    Germany|52.5244|13.4105|      88|     28.02| 31.93|     34.36|       24.75|     -2.21| -0.04|      1.31|       -4.03|\n",
      "|   13|\"61c02ab9bfa94000...|2021-12-20 08:03:21|   12| 20|   8|2988507|    Paris|     France|48.8534| 2.3488|      89|     39.99| 41.32|     42.39|       41.32|      4.44|  5.18|      5.77|        5.18|\n",
      "|   14|\"61c02be5bfa94000...|2021-12-20 08:08:21|   12| 20|   8|3128760|Barcelona|      Spain|41.3888|  2.159|      75|     34.93| 43.54|     48.54|       38.44|      1.63|  6.41|      9.19|        3.58|\n",
      "|   15|\"61c02d12bfa94000...|2021-12-20 08:13:21|   12| 20|   8|2759794|Amsterdam|Netherlands| 52.374| 4.8897|      78|     39.25| 42.12|     44.89|       39.76|      4.03|  5.62|      7.16|        4.31|\n",
      "|   16|\"61c02e3ebfa94000...|2021-12-20 08:18:22|   12| 20|   8|3094802|   Krakow|     Poland|50.0833|19.9167|      69|     28.67| 32.99|     34.39|       32.99|     -1.85|  0.55|      1.33|        0.55|\n",
      "|   17|\"61c02f6abfa94000...|2021-12-20 08:23:22|   12| 20|   8|2761369|   Vienna|    Austria|48.2085|16.3721|      82|     32.32| 35.35|     37.42|       31.95|      0.18|  1.86|      3.01|       -0.03|\n",
      "|   18|\"61c03096bfa94000...|2021-12-20 08:28:22|   12| 20|   8|2643743|   London|    England|51.5085|-0.1257|      94|     40.35| 42.42|     44.35|       41.11|      4.64|  5.79|      6.86|        5.06|\n",
      "|   19|\"61c031c2bfa94000...|2021-12-20 08:33:22|   12| 20|   8|2950159|   Berlin|    Germany|52.5244|13.4105|      87|     27.82| 32.04|     35.33|       23.77|     -2.32|  0.02|      1.85|       -4.57|\n",
      "+-----+--------------------+-------------------+-----+---+----+-------+---------+-----------+-------+-------+--------+----------+------+----------+------------+----------+------+----------+------------+\n",
      "only showing top 20 rows\n",
      "\n"
     ]
    }
   ],
   "source": [
    "df.show()"
   ]
  },
  {
   "cell_type": "code",
   "execution_count": 14,
   "id": "5b44df41-1e7e-47f3-82a5-46dac10eaa7d",
   "metadata": {},
   "outputs": [
    {
     "name": "stdout",
     "output_type": "stream",
     "text": [
      "Number of rows: 1032\n",
      "Number of columns: 20\n"
     ]
    }
   ],
   "source": [
    "# SHAPE\n",
    "print(f\"Number of rows: {df.count()}\\nNumber of columns: {len(df.columns)}\")"
   ]
  },
  {
   "cell_type": "code",
   "execution_count": 17,
   "id": "e87f5297-386c-4696-93dd-3e619bc02297",
   "metadata": {},
   "outputs": [
    {
     "name": "stdout",
     "output_type": "stream",
     "text": [
      "+-------+-----------------+-----------------+-----------------+-----------------+------------------+------------------+------------------+------------------+------------------+\n",
      "|summary|         humidity|       min_temp_F|           temp_F|       max_temp_F|      feels_like_F|        min_temp_C|            temp_C|        max_temp_C|      feels_like_C|\n",
      "+-------+-----------------+-----------------+-----------------+-----------------+------------------+------------------+------------------+------------------+------------------+\n",
      "|  count|             1032|             1032|             1032|             1032|              1032|              1032|              1032|              1032|              1032|\n",
      "|   mean|83.57751937984496|34.99080426356587|38.32457364341084|41.21692829457373|  35.4041182170543|1.6615116279069775|3.5135368217054297|5.1203682170542635|1.8911531007751947|\n",
      "| stddev|9.222005818623831|8.842045970650746|9.013917701541759|9.169995666649813|10.435856629256618| 4.912428095974413| 5.007695473758929| 5.094467421860042| 5.797637460549524|\n",
      "|    min|               51|             14.2|            17.26|             21.6|              11.7|             -9.89|             -8.19|             -5.78|            -11.28|\n",
      "|    max|               98|            57.15|            59.47|            63.79|             58.96|             13.97|             15.26|             17.66|             14.98|\n",
      "+-------+-----------------+-----------------+-----------------+-----------------+------------------+------------------+------------------+------------------+------------------+\n",
      "\n"
     ]
    }
   ],
   "source": [
    "# DESCRIBE GENERAL DF\n",
    "df.describe([\"humidity\", \"min_temp_F\", \"temp_F\", \"max_temp_F\", \"feels_like_F\", \"min_temp_C\", \"temp_C\", \"max_temp_C\", \"feels_like_C\"]).show()"
   ]
  },
  {
   "cell_type": "code",
   "execution_count": 21,
   "id": "1e22dc52-fb98-4456-8ac6-e61f4522d57d",
   "metadata": {},
   "outputs": [
    {
     "name": "stdout",
     "output_type": "stream",
     "text": [
      "+---------+-----------------+------------------+------------------+------------------+------------------+-------------------+------------------+------------------+-------------------+\n",
      "|     city|    avg(humidity)|   avg(min_temp_F)|       avg(temp_F)|   avg(max_temp_F)| avg(feels_like_F)|    avg(min_temp_C)|       avg(temp_C)|   avg(max_temp_C)|  avg(feels_like_C)|\n",
      "+---------+-----------------+------------------+------------------+------------------+------------------+-------------------+------------------+------------------+-------------------+\n",
      "|   Berlin|88.53333333333333|30.073133333333367| 33.58613333333332| 36.47293333333328|27.781266666666653|-1.0706666666666662|0.8811333333333334| 2.484266666666666|-2.3436000000000003|\n",
      "|   London|87.13793103448276|39.331310344827564|42.104827586206895| 44.44737931034484|  39.3364827586207|  4.072689655172413| 5.613586206896554|  6.91489655172414|  4.075862068965518|\n",
      "|   Vienna|75.58219178082192|   30.928698630137| 35.03863013698631| 38.65294520547946| 33.01979452054794|-0.5954109589041101|1.6880136986301373|  3.69595890410959|  0.566438356164384|\n",
      "|    Paris|87.46979865771812| 36.67087248322148| 38.85530201342284| 40.44812080536917|37.478859060402684| 2.5953020134228177| 3.808523489932887| 4.693355704697983|  3.043691275167786|\n",
      "|   Krakow|79.24489795918367|26.980476190476196|29.807346938775506| 32.31564625850342|24.777142857142863|-2.7891156462585007|-1.218299319727891|0.1755782312925163| -4.012585034013607|\n",
      "|Barcelona|78.27027027027027|47.028513513513545| 52.16432432432432| 56.44040540540547| 51.01263513513513|   8.34952702702703|11.202432432432433|13.577972972972978|  10.56256756756757|\n",
      "|Amsterdam|88.68027210884354| 33.94965986394556|36.739863945578236|39.771292517006806|34.481088435374154| 1.0832653061224493|2.6329251700680274| 4.317346938775511|  1.378163265306122|\n",
      "+---------+-----------------+------------------+------------------+------------------+------------------+-------------------+------------------+------------------+-------------------+\n",
      "\n"
     ]
    }
   ],
   "source": [
    "# AVERAGE TEMPS GROUPED BY CITY\n",
    "df.groupBy(\"city\").mean(\"humidity\", \"min_temp_F\", \"temp_F\", \"max_temp_F\", \"feels_like_F\", \"min_temp_C\", \"temp_C\", \"max_temp_C\", \"feels_like_C\").show()"
   ]
  },
  {
   "cell_type": "markdown",
   "id": "b4cf8da5-720f-4e04-ab99-151036fd8108",
   "metadata": {},
   "source": [
    "## DATA ANALYSIS WITH PYSPARK"
   ]
  },
  {
   "cell_type": "markdown",
   "id": "d0df0403-5b01-4c75-aea0-8af42f0aafad",
   "metadata": {},
   "source": [
    "#### DAILY TEMPERATURE ANALYSIS."
   ]
  },
  {
   "cell_type": "code",
   "execution_count": 26,
   "id": "322915a4-0de3-4573-b530-9fff822d07c7",
   "metadata": {},
   "outputs": [
    {
     "name": "stdout",
     "output_type": "stream",
     "text": [
      "+---------+---+-----------------+------------------+------------------+------------------+------------------+-------------------+--------------------+------------------+--------------------+\n",
      "|     city|day|    avg(humidity)|   avg(min_temp_F)|       avg(temp_F)|   avg(max_temp_F)| avg(feels_like_F)|    avg(min_temp_C)|         avg(temp_C)|   avg(max_temp_C)|   avg(feels_like_C)|\n",
      "+---------+---+-----------------+------------------+------------------+------------------+------------------+-------------------+--------------------+------------------+--------------------+\n",
      "|Amsterdam| 19|             94.0|             42.87|             44.69|             46.85|             41.34|               6.04|                7.05|              8.25|                5.19|\n",
      "|Amsterdam| 20|79.14814814814815| 37.22037037037038|40.352962962962955|  43.5451851851852| 39.76222222222221|   2.90037037037037|                4.64| 6.413703703703704|   4.311481481481481|\n",
      "|Amsterdam| 21|88.94594594594595|29.190270270270275|32.127297297297304| 35.35297297297299| 31.35486486486486|-1.5608108108108107| 0.07054054054054056|1.8629729729729738|-0.35891891891891875|\n",
      "|Amsterdam| 22|         89.90625|27.759062500000006|30.153749999999995| 32.96656249999999|27.040625000000002|         -2.3565625|          -1.0259375|0.5368750000000001| -2.7549999999999994|\n",
      "|Amsterdam| 23|92.05555555555556| 35.76333333333334| 38.68222222222222|41.877222222222215|34.226666666666674|  2.091111111111111|  3.7122222222222216| 5.487222222222223|  1.2372222222222222|\n",
      "|Amsterdam| 24|93.65384615384616| 44.09423076923077|46.441923076923075| 48.80038461538463|43.990769230769224|  6.719615384615385|   8.022692307692306| 9.333461538461538|    6.66153846153846|\n",
      "|Amsterdam| 25|90.83333333333333|30.709999999999997| 34.85666666666667| 39.70333333333334|28.088333333333335|-0.7166666666666667|  1.5866666666666667| 4.279999999999999| -2.1733333333333333|\n",
      "|Barcelona| 19|             77.0|             47.53|             51.87|             56.53|             50.38|               8.63|               11.04|             13.63|               10.21|\n",
      "|Barcelona| 20|64.51851851851852| 44.38999999999999|  51.2125925925926|55.755185185185155| 49.23703703703704|  6.884074074074073|  10.673703703703701|13.197407407407404|   9.576296296296293|\n",
      "|Barcelona| 21|77.05405405405405|44.524054054054034| 50.18702702702703| 54.50756756756755| 49.13000000000001|  6.958378378378381|  10.104594594594595| 12.50459459459459|   9.516756756756758|\n",
      "|Barcelona| 22|          83.1875| 46.99375000000001|50.881249999999994| 55.46656249999998| 49.91062500000002|  8.329375000000002|  10.489062500000003|13.036874999999998|   9.950000000000003|\n",
      "|Barcelona| 23|84.33333333333333|48.731666666666655| 53.49222222222222|  57.2238888888889| 52.50388888888888|  9.294999999999998|  11.940000000000001|14.012222222222224|   11.39111111111111|\n",
      "|Barcelona| 24|82.74074074074075| 51.70148148148146| 56.33703703703704| 60.37037037037036| 55.55888888888889| 10.946296296296296|  13.520370370370369|15.761111111111108|  13.088148148148148|\n",
      "|Barcelona| 25|             84.6|            48.466|            52.952|            56.598|             51.92|              9.148|  11.639999999999999|            13.666|  11.068000000000001|\n",
      "|   Berlin| 19|             91.0|              42.1| 43.26666666666666|             45.75|             35.75|               5.61|   6.260000000000001|              7.64|  2.0833333333333335|\n",
      "|   Berlin| 20|87.78571428571429| 31.05071428571427| 35.04821428571429|38.219642857142865| 29.20714285714286|-0.5267857142857142|  1.6932142857142858|3.4542857142857137| -1.5514285714285716|\n",
      "|   Berlin| 21|90.02777777777777|30.339999999999993| 33.72583333333334|36.232777777777784|29.306111111111118|-0.9222222222222223|  0.9586111111111111|2.3502777777777775|  -1.496666666666667|\n",
      "|   Berlin| 22|         82.71875|27.645625000000013|31.365625000000005| 34.51437500000001|        25.7028125|-2.4193750000000005|-0.35250000000000004|1.3968749999999996|  -3.498125000000001|\n",
      "|   Berlin| 23|88.42105263157895|28.441052631578952| 31.15631578947369|33.476315789473695|23.582631578947364|-1.9773684210526308|-0.46842105263157896|0.8194736842105265| -4.6763157894736835|\n",
      "|   Berlin| 24|94.26923076923077|33.863846153846154| 37.35192307692308| 40.41884615384617| 30.23769230769231|  1.034615384615385|  2.9730769230769236| 4.676538461538461| -0.9788461538461539|\n",
      "+---------+---+-----------------+------------------+------------------+------------------+------------------+-------------------+--------------------+------------------+--------------------+\n",
      "only showing top 20 rows\n",
      "\n"
     ]
    }
   ],
   "source": [
    "# AVERAGE TEMPS GROUPED BY CITY AND DAY\n",
    "df_grouped_city_day = df.groupBy(\"city\", \"day\").mean(\"humidity\", \"min_temp_F\", \"temp_F\", \"max_temp_F\", \"feels_like_F\", \"min_temp_C\", \"temp_C\", \"max_temp_C\", \"feels_like_C\").orderBy(\"city\", \"day\")\n",
    "df_grouped_city_day.show()"
   ]
  },
  {
   "cell_type": "code",
   "execution_count": 27,
   "id": "15cc8c09-f4b5-4521-9d85-e2cbf990e75a",
   "metadata": {},
   "outputs": [],
   "source": [
    "# CREATE A TEMPVIEW\n",
    "df_grouped_city_day.createOrReplaceTempView(\"mean_temp_by_city_and_day\")"
   ]
  },
  {
   "cell_type": "code",
   "execution_count": 35,
   "id": "d17772be-7838-46db-9850-8cebfd064817",
   "metadata": {},
   "outputs": [
    {
     "name": "stdout",
     "output_type": "stream",
     "text": [
      "+---------+---+-----------------+------------------+------------------+------------------+------------------+-------------------+--------------------+------------------+--------------------+\n",
      "|     city|day|    avg(humidity)|   avg(min_temp_F)|       avg(temp_F)|   avg(max_temp_F)| avg(feels_like_F)|    avg(min_temp_C)|         avg(temp_C)|   avg(max_temp_C)|   avg(feels_like_C)|\n",
      "+---------+---+-----------------+------------------+------------------+------------------+------------------+-------------------+--------------------+------------------+--------------------+\n",
      "|Amsterdam| 19|             94.0|             42.87|             44.69|             46.85|             41.34|               6.04|                7.05|              8.25|                5.19|\n",
      "|Amsterdam| 20|79.14814814814815| 37.22037037037038|40.352962962962955|  43.5451851851852| 39.76222222222221|   2.90037037037037|                4.64| 6.413703703703704|   4.311481481481481|\n",
      "|Amsterdam| 21|88.94594594594595|29.190270270270275|32.127297297297304| 35.35297297297299| 31.35486486486486|-1.5608108108108107| 0.07054054054054056|1.8629729729729738|-0.35891891891891875|\n",
      "|Amsterdam| 22|         89.90625|27.759062500000006|30.153749999999995| 32.96656249999999|27.040625000000002|         -2.3565625|          -1.0259375|0.5368750000000001| -2.7549999999999994|\n",
      "|Amsterdam| 23|92.05555555555556| 35.76333333333334| 38.68222222222222|41.877222222222215|34.226666666666674|  2.091111111111111|  3.7122222222222216| 5.487222222222223|  1.2372222222222222|\n",
      "|Amsterdam| 24|93.65384615384616| 44.09423076923077|46.441923076923075| 48.80038461538463|43.990769230769224|  6.719615384615385|   8.022692307692306| 9.333461538461538|    6.66153846153846|\n",
      "|Amsterdam| 25|90.83333333333333|30.709999999999997| 34.85666666666667| 39.70333333333334|28.088333333333335|-0.7166666666666667|  1.5866666666666667| 4.279999999999999| -2.1733333333333333|\n",
      "|Barcelona| 19|             77.0|             47.53|             51.87|             56.53|             50.38|               8.63|               11.04|             13.63|               10.21|\n",
      "|Barcelona| 20|64.51851851851852| 44.38999999999999|  51.2125925925926|55.755185185185155| 49.23703703703704|  6.884074074074073|  10.673703703703701|13.197407407407404|   9.576296296296293|\n",
      "|Barcelona| 21|77.05405405405405|44.524054054054034| 50.18702702702703| 54.50756756756755| 49.13000000000001|  6.958378378378381|  10.104594594594595| 12.50459459459459|   9.516756756756758|\n",
      "|Barcelona| 22|          83.1875| 46.99375000000001|50.881249999999994| 55.46656249999998| 49.91062500000002|  8.329375000000002|  10.489062500000003|13.036874999999998|   9.950000000000003|\n",
      "|Barcelona| 23|84.33333333333333|48.731666666666655| 53.49222222222222|  57.2238888888889| 52.50388888888888|  9.294999999999998|  11.940000000000001|14.012222222222224|   11.39111111111111|\n",
      "|Barcelona| 24|82.74074074074075| 51.70148148148146| 56.33703703703704| 60.37037037037036| 55.55888888888889| 10.946296296296296|  13.520370370370369|15.761111111111108|  13.088148148148148|\n",
      "|Barcelona| 25|             84.6|            48.466|            52.952|            56.598|             51.92|              9.148|  11.639999999999999|            13.666|  11.068000000000001|\n",
      "|   Berlin| 19|             91.0|              42.1| 43.26666666666666|             45.75|             35.75|               5.61|   6.260000000000001|              7.64|  2.0833333333333335|\n",
      "|   Berlin| 20|87.78571428571429| 31.05071428571427| 35.04821428571429|38.219642857142865| 29.20714285714286|-0.5267857142857142|  1.6932142857142858|3.4542857142857137| -1.5514285714285716|\n",
      "|   Berlin| 21|90.02777777777777|30.339999999999993| 33.72583333333334|36.232777777777784|29.306111111111118|-0.9222222222222223|  0.9586111111111111|2.3502777777777775|  -1.496666666666667|\n",
      "|   Berlin| 22|         82.71875|27.645625000000013|31.365625000000005| 34.51437500000001|        25.7028125|-2.4193750000000005|-0.35250000000000004|1.3968749999999996|  -3.498125000000001|\n",
      "|   Berlin| 23|88.42105263157895|28.441052631578952| 31.15631578947369|33.476315789473695|23.582631578947364|-1.9773684210526308|-0.46842105263157896|0.8194736842105265| -4.6763157894736835|\n",
      "|   Berlin| 24|94.26923076923077|33.863846153846154| 37.35192307692308| 40.41884615384617| 30.23769230769231|  1.034615384615385|  2.9730769230769236| 4.676538461538461| -0.9788461538461539|\n",
      "+---------+---+-----------------+------------------+------------------+------------------+------------------+-------------------+--------------------+------------------+--------------------+\n",
      "only showing top 20 rows\n",
      "\n"
     ]
    }
   ],
   "source": [
    "# USING SQL TO ANALYSE THE DATA\n",
    "\n",
    "df1 = pyspark.sql(\"SELECT * FROM mean_temp_by_city_and_day\")\n",
    "df1.show()"
   ]
  },
  {
   "cell_type": "code",
   "execution_count": 36,
   "id": "9edc8e37-70a2-4333-b29f-72ed46e9992a",
   "metadata": {},
   "outputs": [
    {
     "data": {
      "text/html": [
       "<div>\n",
       "<style scoped>\n",
       "    .dataframe tbody tr th:only-of-type {\n",
       "        vertical-align: middle;\n",
       "    }\n",
       "\n",
       "    .dataframe tbody tr th {\n",
       "        vertical-align: top;\n",
       "    }\n",
       "\n",
       "    .dataframe thead th {\n",
       "        text-align: right;\n",
       "    }\n",
       "</style>\n",
       "<table border=\"1\" class=\"dataframe\">\n",
       "  <thead>\n",
       "    <tr style=\"text-align: right;\">\n",
       "      <th></th>\n",
       "      <th>city</th>\n",
       "      <th>day</th>\n",
       "      <th>avg(humidity)</th>\n",
       "      <th>avg(min_temp_F)</th>\n",
       "      <th>avg(temp_F)</th>\n",
       "      <th>avg(max_temp_F)</th>\n",
       "      <th>avg(feels_like_F)</th>\n",
       "      <th>avg(min_temp_C)</th>\n",
       "      <th>avg(temp_C)</th>\n",
       "      <th>avg(max_temp_C)</th>\n",
       "      <th>avg(feels_like_C)</th>\n",
       "    </tr>\n",
       "  </thead>\n",
       "  <tbody>\n",
       "    <tr>\n",
       "      <th>0</th>\n",
       "      <td>Amsterdam</td>\n",
       "      <td>19</td>\n",
       "      <td>94.000000</td>\n",
       "      <td>42.870000</td>\n",
       "      <td>44.690000</td>\n",
       "      <td>46.850000</td>\n",
       "      <td>41.340000</td>\n",
       "      <td>6.040000</td>\n",
       "      <td>7.050000</td>\n",
       "      <td>8.250000</td>\n",
       "      <td>5.190000</td>\n",
       "    </tr>\n",
       "    <tr>\n",
       "      <th>1</th>\n",
       "      <td>Amsterdam</td>\n",
       "      <td>20</td>\n",
       "      <td>79.148148</td>\n",
       "      <td>37.220370</td>\n",
       "      <td>40.352963</td>\n",
       "      <td>43.545185</td>\n",
       "      <td>39.762222</td>\n",
       "      <td>2.900370</td>\n",
       "      <td>4.640000</td>\n",
       "      <td>6.413704</td>\n",
       "      <td>4.311481</td>\n",
       "    </tr>\n",
       "    <tr>\n",
       "      <th>2</th>\n",
       "      <td>Amsterdam</td>\n",
       "      <td>21</td>\n",
       "      <td>88.945946</td>\n",
       "      <td>29.190270</td>\n",
       "      <td>32.127297</td>\n",
       "      <td>35.352973</td>\n",
       "      <td>31.354865</td>\n",
       "      <td>-1.560811</td>\n",
       "      <td>0.070541</td>\n",
       "      <td>1.862973</td>\n",
       "      <td>-0.358919</td>\n",
       "    </tr>\n",
       "    <tr>\n",
       "      <th>3</th>\n",
       "      <td>Amsterdam</td>\n",
       "      <td>22</td>\n",
       "      <td>89.906250</td>\n",
       "      <td>27.759063</td>\n",
       "      <td>30.153750</td>\n",
       "      <td>32.966562</td>\n",
       "      <td>27.040625</td>\n",
       "      <td>-2.356562</td>\n",
       "      <td>-1.025937</td>\n",
       "      <td>0.536875</td>\n",
       "      <td>-2.755000</td>\n",
       "    </tr>\n",
       "    <tr>\n",
       "      <th>4</th>\n",
       "      <td>Amsterdam</td>\n",
       "      <td>23</td>\n",
       "      <td>92.055556</td>\n",
       "      <td>35.763333</td>\n",
       "      <td>38.682222</td>\n",
       "      <td>41.877222</td>\n",
       "      <td>34.226667</td>\n",
       "      <td>2.091111</td>\n",
       "      <td>3.712222</td>\n",
       "      <td>5.487222</td>\n",
       "      <td>1.237222</td>\n",
       "    </tr>\n",
       "  </tbody>\n",
       "</table>\n",
       "</div>"
      ],
      "text/plain": [
       "        city  day  avg(humidity)  avg(min_temp_F)  avg(temp_F)  \\\n",
       "0  Amsterdam   19      94.000000        42.870000    44.690000   \n",
       "1  Amsterdam   20      79.148148        37.220370    40.352963   \n",
       "2  Amsterdam   21      88.945946        29.190270    32.127297   \n",
       "3  Amsterdam   22      89.906250        27.759063    30.153750   \n",
       "4  Amsterdam   23      92.055556        35.763333    38.682222   \n",
       "\n",
       "   avg(max_temp_F)  avg(feels_like_F)  avg(min_temp_C)  avg(temp_C)  \\\n",
       "0        46.850000          41.340000         6.040000     7.050000   \n",
       "1        43.545185          39.762222         2.900370     4.640000   \n",
       "2        35.352973          31.354865        -1.560811     0.070541   \n",
       "3        32.966562          27.040625        -2.356562    -1.025937   \n",
       "4        41.877222          34.226667         2.091111     3.712222   \n",
       "\n",
       "   avg(max_temp_C)  avg(feels_like_C)  \n",
       "0         8.250000           5.190000  \n",
       "1         6.413704           4.311481  \n",
       "2         1.862973          -0.358919  \n",
       "3         0.536875          -2.755000  \n",
       "4         5.487222           1.237222  "
      ]
     },
     "execution_count": 36,
     "metadata": {},
     "output_type": "execute_result"
    }
   ],
   "source": [
    "# DF1 TO PANDAS - PLOT\n",
    "df1 = df1.toPandas()\n",
    "df1.head()"
   ]
  },
  {
   "cell_type": "code",
   "execution_count": 145,
   "id": "0bb38927-c54d-4cf3-9e4d-f96e895d7346",
   "metadata": {},
   "outputs": [
    {
     "name": "stderr",
     "output_type": "stream",
     "text": [
      "/opt/homebrew/lib/python3.9/site-packages/seaborn/_decorators.py:36: FutureWarning: Pass the following variables as keyword args: x, y. From version 0.12, the only valid positional argument will be `data`, and passing other arguments without an explicit keyword will result in an error or misinterpretation.\n",
      "  warnings.warn(\n"
     ]
    },
    {
     "data": {
      "text/plain": [
       "<AxesSubplot:title={'center':'Temperature Variation Berlin'}, xlabel='day', ylabel='Temp (C)'>"
      ]
     },
     "execution_count": 145,
     "metadata": {},
     "output_type": "execute_result"
    },
    {
     "data": {
      "image/png": "[encoded data removed]",
      "text/plain": [
       "<Figure size 720x432 with 1 Axes>"
      ]
     },
     "metadata": {},
     "output_type": "display_data"
    }
   ],
   "source": [
    "# EXEMPLE PLOT\n",
    "city_temp_lineplot(df1, 'Berlin')"
   ]
  },
  {
   "cell_type": "markdown",
   "id": "aabd2d01-f50b-4631-9d8e-06642663fe6d",
   "metadata": {},
   "source": [
    "#### HOURLY TEMPERATURE ANALYSIS."
   ]
  },
  {
   "cell_type": "code",
   "execution_count": 151,
   "id": "bb3dc0a6-12c6-42c0-99fc-2f1744a5347a",
   "metadata": {},
   "outputs": [
    {
     "name": "stdout",
     "output_type": "stream",
     "text": [
      "+---------+---+----+-------------+------------------+------------------+---------------+------------------+---------------+------------------+---------------+------------------+\n",
      "|     city|day|hour|avg(humidity)|   avg(min_temp_F)|       avg(temp_F)|avg(max_temp_F)| avg(feels_like_F)|avg(min_temp_C)|       avg(temp_C)|avg(max_temp_C)| avg(feels_like_C)|\n",
      "+---------+---+----+-------------+------------------+------------------+---------------+------------------+---------------+------------------+---------------+------------------+\n",
      "|Amsterdam| 19|  11|         94.0|             42.87|             44.69|          46.85|             41.34|           6.04|              7.05|           8.25|              5.19|\n",
      "|Amsterdam| 20|   8|         80.0|            39.055|41.849999999999994|          44.89|             40.67|           3.92| 5.470000000000001|           7.16|4.8149999999999995|\n",
      "|Amsterdam| 20|   9|         84.0|            38.975|             41.17|          44.89|             41.17|          3.875|             5.095|           7.16|             5.095|\n",
      "|Amsterdam| 20|  10|         85.0|             39.85|             41.52|          44.89|             41.52|           4.36|              5.29|           7.16|              5.29|\n",
      "|Amsterdam| 20|  11|         83.0|40.370000000000005|             42.56|         45.375|            41.895|           4.65|             5.865|           7.43| 5.494999999999999|\n",
      "|Amsterdam| 20|  12|         77.5|             41.86|            43.675|         45.905|43.099999999999994|           5.48| 6.484999999999999|          7.725|             6.165|\n",
      "|Amsterdam| 20|  13|         75.0|             41.88|             43.79|          45.95|             42.66|           5.49|              6.55|           7.75|              5.92|\n",
      "|Amsterdam| 20|  14|         73.5|             41.47|            43.485|          45.97|              42.9|           5.26|              6.38|           7.76|             6.055|\n",
      "|Amsterdam| 20|  15|         72.0|41.355000000000004|             43.11|         45.465|             43.11|          5.195|              6.17|           7.48|              6.17|\n",
      "|Amsterdam| 20|  16|         71.5|             39.47|             41.91|         43.925|             41.18|           4.15|             5.505|          6.625|               5.1|\n",
      "|Amsterdam| 20|  17|         73.0|             37.09|             40.71|          43.97|             39.18|           2.83|              4.84|           6.65|              3.99|\n",
      "|Amsterdam| 20|  18|         74.5|            35.335|             39.57|         42.925|             39.57|          1.855|             4.205|           6.07|             4.205|\n",
      "|Amsterdam| 20|  19|         78.0|33.269999999999996|            38.595|           42.9|            38.595|          0.705|             3.665|          6.055|             3.665|\n",
      "|Amsterdam| 20|  20|         81.0|             32.07|              37.8|          41.92|              37.8|           0.04|              3.22|           5.51|              3.22|\n",
      "|Amsterdam| 20|  21|         85.5|            31.355|            36.075|         40.405|              34.7|          -0.36|2.2649999999999997|           4.67|               1.5|\n",
      "|Amsterdam| 20|  22|         87.5|            29.975|              34.2|          38.39|              34.2|         -1.125|              1.22|           3.55|              1.22|\n",
      "|Amsterdam| 20|  23|         89.0|             29.08|             33.31|          36.91|             30.24|          -1.62|              0.73|           2.73|             -0.98|\n",
      "|Amsterdam| 21|   0|         92.0|             28.85|             33.03|          36.91|             33.03|          -1.75|              0.57|           2.73|              0.57|\n",
      "|Amsterdam| 21|   1|         95.0|              28.0|              31.5|           34.9|              31.5|          -2.22|             -0.28|           1.61|             -0.28|\n",
      "|Amsterdam| 21|   2|         94.0|             27.86|             31.41|          34.92|             31.41|           -2.3|             -0.33|           1.62|             -0.33|\n",
      "+---------+---+----+-------------+------------------+------------------+---------------+------------------+---------------+------------------+---------------+------------------+\n",
      "only showing top 20 rows\n",
      "\n"
     ]
    }
   ],
   "source": [
    "# AVERAGE TEMPS GROUPED BY CITY AND HOUR\n",
    "df_grouped_city_hour = df.groupBy(\"city\", \"day\", \"hour\").mean(\"humidity\", \"min_temp_F\", \"temp_F\", \"max_temp_F\", \"feels_like_F\", \"min_temp_C\", \"temp_C\", \"max_temp_C\", \"feels_like_C\").orderBy(\"city\", \"day\", \"hour\")\n",
    "df_grouped_city_hour.show()"
   ]
  },
  {
   "cell_type": "code",
   "execution_count": 153,
   "id": "7d2f807d-8214-4047-a085-d7906818a9b3",
   "metadata": {},
   "outputs": [],
   "source": [
    "# CREATE A TEMPVIEW\n",
    "df_grouped_city_hour.createOrReplaceTempView(\"mean_temp_by_city_day_and_hour\")"
   ]
  },
  {
   "cell_type": "code",
   "execution_count": 154,
   "id": "5bac0ee2-6d7c-460b-b980-12217f166988",
   "metadata": {},
   "outputs": [
    {
     "name": "stderr",
     "output_type": "stream",
     "text": [
      "[Stage 59:>                                                         (0 + 1) / 1]\r"
     ]
    },
    {
     "name": "stdout",
     "output_type": "stream",
     "text": [
      "+---------+---+----+-------------+------------------+------------------+---------------+------------------+---------------+------------------+---------------+------------------+\n",
      "|     city|day|hour|avg(humidity)|   avg(min_temp_F)|       avg(temp_F)|avg(max_temp_F)| avg(feels_like_F)|avg(min_temp_C)|       avg(temp_C)|avg(max_temp_C)| avg(feels_like_C)|\n",
      "+---------+---+----+-------------+------------------+------------------+---------------+------------------+---------------+------------------+---------------+------------------+\n",
      "|Amsterdam| 19|  11|         94.0|             42.87|             44.69|          46.85|             41.34|           6.04|              7.05|           8.25|              5.19|\n",
      "|Amsterdam| 20|   8|         80.0|            39.055|41.849999999999994|          44.89|             40.67|           3.92| 5.470000000000001|           7.16|4.8149999999999995|\n",
      "|Amsterdam| 20|   9|         84.0|            38.975|             41.17|          44.89|             41.17|          3.875|             5.095|           7.16|             5.095|\n",
      "|Amsterdam| 20|  10|         85.0|             39.85|             41.52|          44.89|             41.52|           4.36|              5.29|           7.16|              5.29|\n",
      "|Amsterdam| 20|  11|         83.0|40.370000000000005|             42.56|         45.375|            41.895|           4.65|             5.865|           7.43| 5.494999999999999|\n",
      "|Amsterdam| 20|  12|         77.5|             41.86|            43.675|         45.905|43.099999999999994|           5.48| 6.484999999999999|          7.725|             6.165|\n",
      "|Amsterdam| 20|  13|         75.0|             41.88|             43.79|          45.95|             42.66|           5.49|              6.55|           7.75|              5.92|\n",
      "|Amsterdam| 20|  14|         73.5|             41.47|            43.485|          45.97|              42.9|           5.26|              6.38|           7.76|             6.055|\n",
      "|Amsterdam| 20|  15|         72.0|41.355000000000004|             43.11|         45.465|             43.11|          5.195|              6.17|           7.48|              6.17|\n",
      "|Amsterdam| 20|  16|         71.5|             39.47|             41.91|         43.925|             41.18|           4.15|             5.505|          6.625|               5.1|\n",
      "|Amsterdam| 20|  17|         73.0|             37.09|             40.71|          43.97|             39.18|           2.83|              4.84|           6.65|              3.99|\n",
      "|Amsterdam| 20|  18|         74.5|            35.335|             39.57|         42.925|             39.57|          1.855|             4.205|           6.07|             4.205|\n",
      "|Amsterdam| 20|  19|         78.0|33.269999999999996|            38.595|           42.9|            38.595|          0.705|             3.665|          6.055|             3.665|\n",
      "|Amsterdam| 20|  20|         81.0|             32.07|              37.8|          41.92|              37.8|           0.04|              3.22|           5.51|              3.22|\n",
      "|Amsterdam| 20|  21|         85.5|            31.355|            36.075|         40.405|              34.7|          -0.36|2.2649999999999997|           4.67|               1.5|\n",
      "|Amsterdam| 20|  22|         87.5|            29.975|              34.2|          38.39|              34.2|         -1.125|              1.22|           3.55|              1.22|\n",
      "|Amsterdam| 20|  23|         89.0|             29.08|             33.31|          36.91|             30.24|          -1.62|              0.73|           2.73|             -0.98|\n",
      "|Amsterdam| 21|   0|         92.0|             28.85|             33.03|          36.91|             33.03|          -1.75|              0.57|           2.73|              0.57|\n",
      "|Amsterdam| 21|   1|         95.0|              28.0|              31.5|           34.9|              31.5|          -2.22|             -0.28|           1.61|             -0.28|\n",
      "|Amsterdam| 21|   2|         94.0|             27.86|             31.41|          34.92|             31.41|           -2.3|             -0.33|           1.62|             -0.33|\n",
      "+---------+---+----+-------------+------------------+------------------+---------------+------------------+---------------+------------------+---------------+------------------+\n",
      "only showing top 20 rows\n",
      "\n"
     ]
    },
    {
     "name": "stderr",
     "output_type": "stream",
     "text": [
      "                                                                                \r"
     ]
    }
   ],
   "source": [
    "df2 = pyspark.sql(\"SELECT * FROM mean_temp_by_city_day_and_hour\")\n",
    "df2.show()"
   ]
  },
  {
   "cell_type": "code",
   "execution_count": 155,
   "id": "147506cf-85f0-44b0-b8ee-926029cfb9ee",
   "metadata": {},
   "outputs": [
    {
     "data": {
      "text/html": [
       "<div>\n",
       "<style scoped>\n",
       "    .dataframe tbody tr th:only-of-type {\n",
       "        vertical-align: middle;\n",
       "    }\n",
       "\n",
       "    .dataframe tbody tr th {\n",
       "        vertical-align: top;\n",
       "    }\n",
       "\n",
       "    .dataframe thead th {\n",
       "        text-align: right;\n",
       "    }\n",
       "</style>\n",
       "<table border=\"1\" class=\"dataframe\">\n",
       "  <thead>\n",
       "    <tr style=\"text-align: right;\">\n",
       "      <th></th>\n",
       "      <th>city</th>\n",
       "      <th>day</th>\n",
       "      <th>hour</th>\n",
       "      <th>avg(humidity)</th>\n",
       "      <th>avg(min_temp_F)</th>\n",
       "      <th>avg(temp_F)</th>\n",
       "      <th>avg(max_temp_F)</th>\n",
       "      <th>avg(feels_like_F)</th>\n",
       "      <th>avg(min_temp_C)</th>\n",
       "      <th>avg(temp_C)</th>\n",
       "      <th>avg(max_temp_C)</th>\n",
       "      <th>avg(feels_like_C)</th>\n",
       "    </tr>\n",
       "  </thead>\n",
       "  <tbody>\n",
       "    <tr>\n",
       "      <th>0</th>\n",
       "      <td>Amsterdam</td>\n",
       "      <td>19</td>\n",
       "      <td>11</td>\n",
       "      <td>94.0</td>\n",
       "      <td>42.870</td>\n",
       "      <td>44.69</td>\n",
       "      <td>46.850</td>\n",
       "      <td>41.340</td>\n",
       "      <td>6.040</td>\n",
       "      <td>7.050</td>\n",
       "      <td>8.25</td>\n",
       "      <td>5.190</td>\n",
       "    </tr>\n",
       "    <tr>\n",
       "      <th>1</th>\n",
       "      <td>Amsterdam</td>\n",
       "      <td>20</td>\n",
       "      <td>8</td>\n",
       "      <td>80.0</td>\n",
       "      <td>39.055</td>\n",
       "      <td>41.85</td>\n",
       "      <td>44.890</td>\n",
       "      <td>40.670</td>\n",
       "      <td>3.920</td>\n",
       "      <td>5.470</td>\n",
       "      <td>7.16</td>\n",
       "      <td>4.815</td>\n",
       "    </tr>\n",
       "    <tr>\n",
       "      <th>2</th>\n",
       "      <td>Amsterdam</td>\n",
       "      <td>20</td>\n",
       "      <td>9</td>\n",
       "      <td>84.0</td>\n",
       "      <td>38.975</td>\n",
       "      <td>41.17</td>\n",
       "      <td>44.890</td>\n",
       "      <td>41.170</td>\n",
       "      <td>3.875</td>\n",
       "      <td>5.095</td>\n",
       "      <td>7.16</td>\n",
       "      <td>5.095</td>\n",
       "    </tr>\n",
       "    <tr>\n",
       "      <th>3</th>\n",
       "      <td>Amsterdam</td>\n",
       "      <td>20</td>\n",
       "      <td>10</td>\n",
       "      <td>85.0</td>\n",
       "      <td>39.850</td>\n",
       "      <td>41.52</td>\n",
       "      <td>44.890</td>\n",
       "      <td>41.520</td>\n",
       "      <td>4.360</td>\n",
       "      <td>5.290</td>\n",
       "      <td>7.16</td>\n",
       "      <td>5.290</td>\n",
       "    </tr>\n",
       "    <tr>\n",
       "      <th>4</th>\n",
       "      <td>Amsterdam</td>\n",
       "      <td>20</td>\n",
       "      <td>11</td>\n",
       "      <td>83.0</td>\n",
       "      <td>40.370</td>\n",
       "      <td>42.56</td>\n",
       "      <td>45.375</td>\n",
       "      <td>41.895</td>\n",
       "      <td>4.650</td>\n",
       "      <td>5.865</td>\n",
       "      <td>7.43</td>\n",
       "      <td>5.495</td>\n",
       "    </tr>\n",
       "  </tbody>\n",
       "</table>\n",
       "</div>"
      ],
      "text/plain": [
       "        city  day  hour  avg(humidity)  avg(min_temp_F)  avg(temp_F)  avg(max_temp_F)  avg(feels_like_F)  avg(min_temp_C)  avg(temp_C)  avg(max_temp_C)  avg(feels_like_C)\n",
       "0  Amsterdam   19    11           94.0           42.870        44.69           46.850             41.340            6.040        7.050             8.25              5.190\n",
       "1  Amsterdam   20     8           80.0           39.055        41.85           44.890             40.670            3.920        5.470             7.16              4.815\n",
       "2  Amsterdam   20     9           84.0           38.975        41.17           44.890             41.170            3.875        5.095             7.16              5.095\n",
       "3  Amsterdam   20    10           85.0           39.850        41.52           44.890             41.520            4.360        5.290             7.16              5.290\n",
       "4  Amsterdam   20    11           83.0           40.370        42.56           45.375             41.895            4.650        5.865             7.43              5.495"
      ]
     },
     "execution_count": 155,
     "metadata": {},
     "output_type": "execute_result"
    }
   ],
   "source": [
    "# DF2 TO PANDAS - PLOT\n",
    "df2 = df2.toPandas()\n",
    "df2.head()"
   ]
  },
  {
   "cell_type": "code",
   "execution_count": 161,
   "id": "b44e8194-81f4-4e61-8dc6-211c9b0817c3",
   "metadata": {},
   "outputs": [
    {
     "name": "stderr",
     "output_type": "stream",
     "text": [
      "/opt/homebrew/lib/python3.9/site-packages/seaborn/_decorators.py:36: FutureWarning: Pass the following variables as keyword args: x, y. From version 0.12, the only valid positional argument will be `data`, and passing other arguments without an explicit keyword will result in an error or misinterpretation.\n",
      "  warnings.warn(\n"
     ]
    },
    {
     "data": {
      "text/plain": [
       "<matplotlib.lines.Line2D at 0x17ccea910>"
      ]
     },
     "execution_count": 161,
     "metadata": {},
     "output_type": "execute_result"
    },
    {
     "data": {
      "image/png": "[encoded data removed]",
      "text/plain": [
       "<Figure size 720x432 with 1 Axes>"
      ]
     },
     "metadata": {},
     "output_type": "display_data"
    }
   ],
   "source": [
    "df_city = df2[df2['city'] == f'Berlin']\n",
    "\n",
    "ax = sns.lineplot(df_city['hour'], df_city['avg(temp_C)'], hue=df2[\"day\"], markers=True, dashes=False)\n",
    "ax.set_title(f\"Temperature Variation Berlin\", fontsize=14)\n",
    "ax.set_ylabel(\"Temp (C)\")\n",
    "ax.axhline(0, color=\"k\", linestyle=\"--\")"
   ]
  },
  {
   "cell_type": "code",
   "execution_count": null,
   "id": "cf94ddbf-687f-44f3-a419-f8f9688f9f79",
   "metadata": {},
   "outputs": [],
   "source": []
  }
 ],
 "metadata": {
  "kernelspec": {
   "display_name": "Python 3 (ipykernel)",
   "language": "python",
   "name": "python3"
  },
  "language_info": {
   "codemirror_mode": {
    "name": "ipython",
    "version": 3
   },
   "file_extension": ".py",
   "mimetype": "text/x-python",
   "name": "python",
   "nbconvert_exporter": "python",
   "pygments_lexer": "ipython3",
   "version": "3.9.9"
  }
 },
 "nbformat": 4,
 "nbformat_minor": 5
}
